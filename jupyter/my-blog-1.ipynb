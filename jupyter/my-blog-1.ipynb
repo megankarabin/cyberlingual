{
 "cells": [
  {
   "cell_type": "markdown",
   "metadata": {},
   "source": [
    "Title: First Blog 🌈\n",
    "\n",
    "Date: 2019-06-16 12:18\n",
    "\n",
    "Tags: python\n",
    "\n",
    "Slug: blog_1"
   ]
  },
  {
   "cell_type": "markdown",
   "metadata": {},
   "source": [
    "# _What the f%#@ is an R2?_ \n",
    "\n",
    "## And other important questions\n"
   ]
  },
  {
   "cell_type": "markdown",
   "metadata": {},
   "source": [
    "## Linear Regression & Modelling "
   ]
  },
  {
   "cell_type": "markdown",
   "metadata": {},
   "source": [
    "Before getting into the nitty-gritty of what linear regression models do, and how to build one using python, we first need to address what, exactly, a \"linear regression\" IS. I struggled with this concept initially, I think because there are just so many little moving parts involved that one must wrap one's head around before seeing &mdash; and truly understanding &mdash; the bigger picture. \n",
    "\n",
    "So, in this post, we're going to break down the key components of a (simple or multiple) linear regression &mdash; inluding the requisite code to run one ourselves with python! &mdash; and discuss why we should care about understanding all of this in the first place. "
   ]
  },
  {
   "cell_type": "markdown",
   "metadata": {},
   "source": [
    "## What is linear regression?"
   ]
  },
  {
   "cell_type": "markdown",
   "metadata": {},
   "source": [
    "When you google this phrase, a few of the answers that come up descibe linear regression as: \n",
    "- a predictive analysis \n",
    "- a measurement of the relationship between the dependent (y) and independent (X) variables \n",
    "- a set of statstical processes for estimating the relationship between x and y\n",
    "\n",
    "While these definitions are correct and all make perfect sense **once you've already gotten a handle on what all of it means and refers to**, I think for absolute beginners it's still just a touch abstract. So let's break it down further &mdash; starting with the term itself. \n",
    "\n",
    "Linear regression is so named because:\n",
    "\n",
    "1. We're literally using a LINE (hence, ***linear*** &mdash; thank you, an undergraduate degree's worth of linguists courses) \n",
    "\n",
    "2. We're running a regression. And this is where I think most people's brains start glitching. So let's go over what \"regression\" means. \n",
    "\n",
    "Regression, the non-statistical term, is defined as \"a return to a former or less developed state\". To regress essentially just means to \"go back\". \n",
    "\n",
    "Non-numeric analogy, Imagine the difference between a linear regression model and the actual data it runs on as the difference between the outline of an essay (the model) and your final version (the actual values). The final version will almost certainly be much more developed than the outline, and from the outline we couldn't know word for word what your final draft would sound like. But based on the outline&mdash;the \"model\"&mdash;we could predict in what direction you planned to take the essay and generally what the final product would look like at different points. \n",
    "\n",
    "(The only difference is that in a linear regression, we create the model after we've collected our data.)\n",
    "\n",
    "If, in you  This is essentially what a linear regression is doing for us&mdash;allowing us to predict y, given some value of x. \n",
    "\n",
    "Don't think of less developed in this context as \"worse\" or \"wrong\", but simply as the generalization of the true value. No model is ever going to be 100% accurate (and if you discover your model is 100% predictive, you should be asking questions). "
   ]
  },
  {
   "cell_type": "markdown",
   "metadata": {},
   "source": [
    "### Residuals"
   ]
  },
  {
   "cell_type": "markdown",
   "metadata": {},
   "source": [
    "**IMPORTANT: A residual is not a point on a plot, nor is it an entity in and of itself. It is a measurement.** \n",
    "\n",
    "This is something that took a little while to sink in because of the language we use when we talk about \"residuals\". We _talk_ about them as if they are entities in and of themselves, when in fact they represent a _relationship_ between two entities &mdash; these two entities being the _actual_ value of y and the _predicted_ value of y (written ŷ).\n",
    "\n",
    "Just as we have the sum, product, quotient and difference, in a linear regression anaylsis we have the residual. \n",
    "The sum of 1 + 1 is 2; the product of 2 * 3 is 6; the quotient of 10/2 is 5; the difference between 8 and 4 is 4.    Asking what the \"residuals\" are is the exact same thing as asking for the difference between two things, only calculating a residual denotes a **special** case of taking the difference of two numbers/values. We use the term residual in linear regression (rather than simply difference/subtraction) because we have specific, pre-designated candidates (y and ŷ) for the two values on which we're performing calculations. Remember&mdash; y is the **true** value of our dependent variable, and ŷ is the value of y that our model **predicts** (given some value of x).\n"
   ]
  },
  {
   "cell_type": "markdown",
   "metadata": {},
   "source": [
    "Calculating the \"residual\" denotes a particular case where the two items (for which we want to calculate the difference) are specially \n",
    "\n",
    "Calculating a residual is a special case of taking the difference of two numbers/values. We use the term residual in linear regression because we have specific, pre-designated candidates (y and ŷ) for the two values on which we're performing calculations. Remember&mdash; y is the **true** value of our dependent variable, "
   ]
  },
  {
   "cell_type": "code",
   "execution_count": null,
   "metadata": {},
   "outputs": [],
   "source": []
  },
  {
   "cell_type": "markdown",
   "metadata": {},
   "source": [
    "Fitting a model\n",
    "\n",
    "When you \"fit\" your model "
   ]
  },
  {
   "cell_type": "code",
   "execution_count": 14,
   "metadata": {},
   "outputs": [
    {
     "data": {
      "text/html": [
       "<div>\n",
       "<style scoped>\n",
       "    .dataframe tbody tr th:only-of-type {\n",
       "        vertical-align: middle;\n",
       "    }\n",
       "\n",
       "    .dataframe tbody tr th {\n",
       "        vertical-align: top;\n",
       "    }\n",
       "\n",
       "    .dataframe thead th {\n",
       "        text-align: right;\n",
       "    }\n",
       "</style>\n",
       "<table border=\"1\" class=\"dataframe\">\n",
       "  <thead>\n",
       "    <tr style=\"text-align: right;\">\n",
       "      <th></th>\n",
       "      <th>hey</th>\n",
       "    </tr>\n",
       "  </thead>\n",
       "  <tbody>\n",
       "    <tr>\n",
       "      <th>0</th>\n",
       "      <td>1</td>\n",
       "    </tr>\n",
       "    <tr>\n",
       "      <th>1</th>\n",
       "      <td>2</td>\n",
       "    </tr>\n",
       "    <tr>\n",
       "      <th>2</th>\n",
       "      <td>3</td>\n",
       "    </tr>\n",
       "    <tr>\n",
       "      <th>3</th>\n",
       "      <td>4</td>\n",
       "    </tr>\n",
       "    <tr>\n",
       "      <th>4</th>\n",
       "      <td>5</td>\n",
       "    </tr>\n",
       "  </tbody>\n",
       "</table>\n",
       "</div>"
      ],
      "text/plain": [
       "   hey\n",
       "0    1\n",
       "1    2\n",
       "2    3\n",
       "3    4\n",
       "4    5"
      ]
     },
     "execution_count": 14,
     "metadata": {},
     "output_type": "execute_result"
    }
   ],
   "source": [
    "import pandas as pd\n",
    "\n",
    "hey = [1,2,3,4,5]\n",
    "\n",
    "pd.DataFrame(hey, columns={'hey': hey})"
   ]
  },
  {
   "cell_type": "markdown",
   "metadata": {},
   "source": [
    "![](images/christie-snowy.jpeg)"
   ]
  }
 ],
 "metadata": {
  "kernelspec": {
   "display_name": "Python 3",
   "language": "python",
   "name": "python3"
  },
  "language_info": {
   "codemirror_mode": {
    "name": "ipython",
    "version": 3
   },
   "file_extension": ".py",
   "mimetype": "text/x-python",
   "name": "python",
   "nbconvert_exporter": "python",
   "pygments_lexer": "ipython3",
   "version": "3.7.3"
  }
 },
 "nbformat": 4,
 "nbformat_minor": 2
}
