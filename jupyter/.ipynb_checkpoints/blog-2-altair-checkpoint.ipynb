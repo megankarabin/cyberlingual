{
 "cells": [
  {
   "cell_type": "markdown",
   "metadata": {},
   "source": [
    "Title: Altair to the Rescue    \n",
    "Date: 2019-07-07 8:00       \n",
    "Tags: python, altair, data visualization    \n",
    "Slug: blog_2"
   ]
  },
  {
   "cell_type": "markdown",
   "metadata": {},
   "source": [
    "### Bad charts made better: A beginner-friendly altair tutorial"
   ]
  },
  {
   "cell_type": "markdown",
   "metadata": {},
   "source": [
    "Some charts are confusing, some hard to interpret, and others are just boring, while still others (albeit a special, minority few) require that the rules of math and logic break in order to establish a reality in which they make sense&mdash;though at first glance, they might not appear as pernicious as they really are. By manipulating data, not only is it possible to tell a story, but to frame it in a way that fits a particular narrative. How we choose to represent data visually is of the utmost importance as a data scientist, of course, but also as anyone who needs to depict information in a meaningful way.\n",
    "\n",
    "In this blog, I'll take some bad charts (boring, misleading, logic-breaking, etc.) and remake them into their best selves. \n",
    "\n",
    "\n",
    "But first, I'll go over the basics of Altair, walking through the first few steps needed to create a visualization. "
   ]
  },
  {
   "cell_type": "code",
   "execution_count": 2,
   "metadata": {},
   "outputs": [],
   "source": [
    "import altair as alt \n",
    "import pandas as pd\n",
    "import numpy as np\n",
    "alt.renderers.enable('notebook');"
   ]
  },
  {
   "cell_type": "markdown",
   "metadata": {},
   "source": [
    "## ✨Before & Afters ✨"
   ]
  },
  {
   "cell_type": "markdown",
   "metadata": {},
   "source": [
    "#### Chart 1"
   ]
  },
  {
   "cell_type": "markdown",
   "metadata": {},
   "source": [
    " "
   ]
  },
  {
   "cell_type": "markdown",
   "metadata": {},
   "source": [
    "  <tr>\n",
    "    <td> <img src=\"images\\images\\donut-complaints.png\" alt=\"Drawing\" style=\"width: 300px;\"/> </td>\n",
    "    <td> <img src=\"images\\images\\complaints.svg\" alt=\"Drawing\" style=\"width: 650px;\"/> </td>\n",
    "    </tr>"
   ]
  },
  {
   "cell_type": "markdown",
   "metadata": {},
   "source": [
    " "
   ]
  },
  {
   "cell_type": "markdown",
   "metadata": {},
   "source": [
    "#### Chart 2"
   ]
  },
  {
   "cell_type": "markdown",
   "metadata": {},
   "source": [
    " "
   ]
  },
  {
   "cell_type": "markdown",
   "metadata": {},
   "source": [
    "  <tr>\n",
    "    <td> <img src=\"images\\ghg-emissions.jpeg\" alt=\"Drawing\" style=\"width: 600px;\"/> </td>\n",
    "    <td> <img src=\"images\\emissions-1.svg\" alt=\"Drawing\" style=\"width: 700px;\"/> </td>\n",
    "    </tr>"
   ]
  },
  {
   "cell_type": "markdown",
   "metadata": {},
   "source": [
    " "
   ]
  },
  {
   "cell_type": "markdown",
   "metadata": {},
   "source": [
    "#### Chart 3"
   ]
  },
  {
   "cell_type": "markdown",
   "metadata": {},
   "source": [
    " "
   ]
  },
  {
   "cell_type": "markdown",
   "metadata": {},
   "source": [
    "  <tr>\n",
    "    <td> <img src=\"images\\aul-fakenews.jpeg\" alt=\"Drawing\" style=\"width: 500px;\"/> </td>\n",
    "    <td> <img src=\"images\\pp-visualization.svg\" alt=\"Drawing\" style=\"width: 500px;\"/> </td>\n",
    "    </tr>"
   ]
  },
  {
   "cell_type": "markdown",
   "metadata": {},
   "source": [
    "The \"bad\" chart depicting Ontario's greenhouse gas emissions might actually look a bit prettier than the one I made, but it's not the better viz. Read why below. "
   ]
  },
  {
   "cell_type": "markdown",
   "metadata": {},
   "source": [
    "## Making bar charts in Altair  "
   ]
  },
  {
   "cell_type": "markdown",
   "metadata": {},
   "source": [
    "<img src=\"images\\donut-complaints.png\" alt=\"Drawing\" style=\"width: 400px;\"/> "
   ]
  },
  {
   "cell_type": "markdown",
   "metadata": {},
   "source": [
    "_This graphic is a breakdown of the discrimination complaints received by the Canadian Human Rights Commission in 2017-18. In that year, disability complaints represented 59% of complaints while 41% of complaints were other._ (From the 2018 Federal budget)"
   ]
  },
  {
   "cell_type": "markdown",
   "metadata": {},
   "source": [
    "Humans aren't great at estimating area or visual divisions of area. A donut chart just isn't a great way to compare two proportions visually&mdash;a bar chart works much better. \n",
    "\n",
    "#### The easiest way to fix this is to spin up a super simple dataset representing these data. "
   ]
  },
  {
   "cell_type": "markdown",
   "metadata": {},
   "source": [
    "Altair charts take pandas dataframes as arguments, so we throw our simple dataset into one with `pd.DataFrame()`. "
   ]
  },
  {
   "cell_type": "code",
   "execution_count": 3,
   "metadata": {},
   "outputs": [
    {
     "data": {
      "text/html": [
       "<div>\n",
       "<style scoped>\n",
       "    .dataframe tbody tr th:only-of-type {\n",
       "        vertical-align: middle;\n",
       "    }\n",
       "\n",
       "    .dataframe tbody tr th {\n",
       "        vertical-align: top;\n",
       "    }\n",
       "\n",
       "    .dataframe thead th {\n",
       "        text-align: right;\n",
       "    }\n",
       "</style>\n",
       "<table border=\"1\" class=\"dataframe\">\n",
       "  <thead>\n",
       "    <tr style=\"text-align: right;\">\n",
       "      <th></th>\n",
       "      <th>complaint type</th>\n",
       "      <th>quantity</th>\n",
       "    </tr>\n",
       "  </thead>\n",
       "  <tbody>\n",
       "    <tr>\n",
       "      <th>0</th>\n",
       "      <td>disability-related</td>\n",
       "      <td>0.59</td>\n",
       "    </tr>\n",
       "    <tr>\n",
       "      <th>1</th>\n",
       "      <td>other</td>\n",
       "      <td>0.41</td>\n",
       "    </tr>\n",
       "  </tbody>\n",
       "</table>\n",
       "</div>"
      ],
      "text/plain": [
       "       complaint type  quantity\n",
       "0  disability-related      0.59\n",
       "1               other      0.41"
      ]
     },
     "execution_count": 3,
     "metadata": {},
     "output_type": "execute_result"
    }
   ],
   "source": [
    "df = pd.DataFrame({\n",
    "    'complaint type': ['disability-related', 'other'],\n",
    "    'quantity': [0.59, 0.41]\n",
    "})\n",
    "\n",
    "df"
   ]
  },
  {
   "cell_type": "markdown",
   "metadata": {},
   "source": [
    "Now we'll try out the simplest visualization possible (one that is hopefully already a more successful representation of data than donut chart up there). "
   ]
  },
  {
   "cell_type": "code",
   "execution_count": 4,
   "metadata": {},
   "outputs": [
    {
     "data": {
      "application/javascript": [
       "var spec = {\"config\": {\"view\": {\"width\": 400, \"height\": 300}, \"mark\": {\"tooltip\": null}}, \"data\": {\"name\": \"data-bdeac43d14b48b349f0b339600c01b2a\"}, \"mark\": \"bar\", \"encoding\": {\"x\": {\"type\": \"quantitative\", \"aggregate\": \"sum\", \"field\": \"quantity\"}, \"y\": {\"type\": \"nominal\", \"field\": \"complaint type\"}}, \"$schema\": \"https://vega.github.io/schema/vega-lite/v3.2.1.json\", \"datasets\": {\"data-bdeac43d14b48b349f0b339600c01b2a\": [{\"complaint type\": \"disability-related\", \"quantity\": 0.59}, {\"complaint type\": \"other\", \"quantity\": 0.41}]}};\n",
       "var opt = {};\n",
       "var type = \"vega-lite\";\n",
       "var id = \"010f9fa6-20fe-4c8f-8214-c50c409a20ce\";\n",
       "\n",
       "var output_area = this;\n",
       "\n",
       "require([\"nbextensions/jupyter-vega/index\"], function(vega) {\n",
       "  var target = document.createElement(\"div\");\n",
       "  target.id = id;\n",
       "  target.className = \"vega-embed\";\n",
       "\n",
       "  var style = document.createElement(\"style\");\n",
       "  style.textContent = [\n",
       "    \".vega-embed .error p {\",\n",
       "    \"  color: firebrick;\",\n",
       "    \"  font-size: 14px;\",\n",
       "    \"}\",\n",
       "  ].join(\"\\\\n\");\n",
       "\n",
       "  // element is a jQuery wrapped DOM element inside the output area\n",
       "  // see http://ipython.readthedocs.io/en/stable/api/generated/\\\n",
       "  // IPython.display.html#IPython.display.Javascript.__init__\n",
       "  element[0].appendChild(target);\n",
       "  element[0].appendChild(style);\n",
       "\n",
       "  vega.render(\"#\" + id, spec, type, opt, output_area);\n",
       "}, function (err) {\n",
       "  if (err.requireType !== \"scripterror\") {\n",
       "    throw(err);\n",
       "  }\n",
       "});\n"
      ],
      "text/plain": [
       "<vega.vegalite.VegaLite at 0x109f02908>"
      ]
     },
     "metadata": {
      "jupyter-vega": "#010f9fa6-20fe-4c8f-8214-c50c409a20ce"
     },
     "output_type": "display_data"
    },
    {
     "data": {
      "text/plain": []
     },
     "execution_count": 4,
     "metadata": {},
     "output_type": "execute_result"
    },
    {
     "data": {
      "image/png": "[encoded data removed]"
     },
     "metadata": {
      "jupyter-vega": "#010f9fa6-20fe-4c8f-8214-c50c409a20ce"
     },
     "output_type": "display_data"
    }
   ],
   "source": [
    "alt.Chart(df).mark_bar().encode(\n",
    "    x='sum(quantity)', # the 'x' channel\n",
    "    y=alt.Y('complaint type') # the 'y' channel\n",
    ")"
   ]
  },
  {
   "cell_type": "markdown",
   "metadata": {},
   "source": [
    "**Here's a quick breakdown of what's happening here:**\n",
    "\n",
    "> `alt.Chart(df)` specifies the data you want to use in your chart (where df = your pandas dataframe)\n",
    " \n",
    "> `.mark_bar()` specifies a bar chart as the type of visualization you want to use. \n",
    "\n",
    "> `.encode()` is where you input (i.e., encode) your chart axes.\n",
    " - You can map any column in your dataset to either the 'x' or 'y' encoding channel (each channel corresponds to the x- and y-axis, respectively). \n",
    " - Read more in the Altair documentation [here](https://altair-viz.github.io/getting_started/starting.html#basic-tutorial-encodings-and-marks)."
   ]
  },
  {
   "cell_type": "markdown",
   "metadata": {},
   "source": [
    "### Using colours"
   ]
  },
  {
   "cell_type": "code",
   "execution_count": 5,
   "metadata": {},
   "outputs": [
    {
     "data": {
      "application/javascript": [
       "var spec = {\"config\": {\"view\": {\"width\": 400, \"height\": 300}, \"mark\": {\"tooltip\": null}}, \"data\": {\"name\": \"data-bdeac43d14b48b349f0b339600c01b2a\"}, \"mark\": \"bar\", \"encoding\": {\"color\": {\"type\": \"nominal\", \"field\": \"complaint type\"}, \"x\": {\"type\": \"quantitative\", \"aggregate\": \"sum\", \"field\": \"quantity\"}, \"y\": {\"type\": \"nominal\", \"field\": \"complaint type\"}}, \"$schema\": \"https://vega.github.io/schema/vega-lite/v3.2.1.json\", \"datasets\": {\"data-bdeac43d14b48b349f0b339600c01b2a\": [{\"complaint type\": \"disability-related\", \"quantity\": 0.59}, {\"complaint type\": \"other\", \"quantity\": 0.41}]}};\n",
       "var opt = {};\n",
       "var type = \"vega-lite\";\n",
       "var id = \"8867e91c-efd0-4593-bfae-43a3abbec60a\";\n",
       "\n",
       "var output_area = this;\n",
       "\n",
       "require([\"nbextensions/jupyter-vega/index\"], function(vega) {\n",
       "  var target = document.createElement(\"div\");\n",
       "  target.id = id;\n",
       "  target.className = \"vega-embed\";\n",
       "\n",
       "  var style = document.createElement(\"style\");\n",
       "  style.textContent = [\n",
       "    \".vega-embed .error p {\",\n",
       "    \"  color: firebrick;\",\n",
       "    \"  font-size: 14px;\",\n",
       "    \"}\",\n",
       "  ].join(\"\\\\n\");\n",
       "\n",
       "  // element is a jQuery wrapped DOM element inside the output area\n",
       "  // see http://ipython.readthedocs.io/en/stable/api/generated/\\\n",
       "  // IPython.display.html#IPython.display.Javascript.__init__\n",
       "  element[0].appendChild(target);\n",
       "  element[0].appendChild(style);\n",
       "\n",
       "  vega.render(\"#\" + id, spec, type, opt, output_area);\n",
       "}, function (err) {\n",
       "  if (err.requireType !== \"scripterror\") {\n",
       "    throw(err);\n",
       "  }\n",
       "});\n"
      ],
      "text/plain": [
       "<vega.vegalite.VegaLite at 0x10a01aa58>"
      ]
     },
     "metadata": {
      "jupyter-vega": "#8867e91c-efd0-4593-bfae-43a3abbec60a"
     },
     "output_type": "display_data"
    },
    {
     "data": {
      "text/plain": []
     },
     "execution_count": 5,
     "metadata": {},
     "output_type": "execute_result"
    },
    {
     "data": {
      "image/png": "[encoded data removed]"
     },
     "metadata": {
      "jupyter-vega": "#8867e91c-efd0-4593-bfae-43a3abbec60a"
     },
     "output_type": "display_data"
    }
   ],
   "source": [
    "color = alt.Color('complaint type') # setting colour to correspond to the selected column\n",
    "\n",
    "alt.Chart(df).mark_bar().encode(\n",
    "    x='sum(quantity)', \n",
    "    y=alt.Y('complaint type'),\n",
    "    color=color\n",
    ")"
   ]
  },
  {
   "cell_type": "markdown",
   "metadata": {},
   "source": [
    "To set a particular colour scheme, use `scale=alt.Scale(scheme='scheme name')` in the `alt.Color` method. "
   ]
  },
  {
   "cell_type": "code",
   "execution_count": 6,
   "metadata": {},
   "outputs": [
    {
     "data": {
      "application/javascript": [
       "var spec = {\"config\": {\"view\": {\"width\": 400, \"height\": 300}, \"mark\": {\"tooltip\": null}}, \"data\": {\"name\": \"data-bdeac43d14b48b349f0b339600c01b2a\"}, \"mark\": \"bar\", \"encoding\": {\"color\": {\"type\": \"nominal\", \"field\": \"complaint type\", \"scale\": {\"scheme\": \"reds\"}}, \"x\": {\"type\": \"quantitative\", \"aggregate\": \"sum\", \"field\": \"quantity\"}, \"y\": {\"type\": \"nominal\", \"field\": \"complaint type\"}}, \"$schema\": \"https://vega.github.io/schema/vega-lite/v3.2.1.json\", \"datasets\": {\"data-bdeac43d14b48b349f0b339600c01b2a\": [{\"complaint type\": \"disability-related\", \"quantity\": 0.59}, {\"complaint type\": \"other\", \"quantity\": 0.41}]}};\n",
       "var opt = {};\n",
       "var type = \"vega-lite\";\n",
       "var id = \"bffe0ef3-d139-4fc3-9f4f-70cb95d79c56\";\n",
       "\n",
       "var output_area = this;\n",
       "\n",
       "require([\"nbextensions/jupyter-vega/index\"], function(vega) {\n",
       "  var target = document.createElement(\"div\");\n",
       "  target.id = id;\n",
       "  target.className = \"vega-embed\";\n",
       "\n",
       "  var style = document.createElement(\"style\");\n",
       "  style.textContent = [\n",
       "    \".vega-embed .error p {\",\n",
       "    \"  color: firebrick;\",\n",
       "    \"  font-size: 14px;\",\n",
       "    \"}\",\n",
       "  ].join(\"\\\\n\");\n",
       "\n",
       "  // element is a jQuery wrapped DOM element inside the output area\n",
       "  // see http://ipython.readthedocs.io/en/stable/api/generated/\\\n",
       "  // IPython.display.html#IPython.display.Javascript.__init__\n",
       "  element[0].appendChild(target);\n",
       "  element[0].appendChild(style);\n",
       "\n",
       "  vega.render(\"#\" + id, spec, type, opt, output_area);\n",
       "}, function (err) {\n",
       "  if (err.requireType !== \"scripterror\") {\n",
       "    throw(err);\n",
       "  }\n",
       "});\n"
      ],
      "text/plain": [
       "<vega.vegalite.VegaLite at 0x10a815e48>"
      ]
     },
     "metadata": {
      "jupyter-vega": "#bffe0ef3-d139-4fc3-9f4f-70cb95d79c56"
     },
     "output_type": "display_data"
    },
    {
     "data": {
      "text/plain": []
     },
     "execution_count": 6,
     "metadata": {},
     "output_type": "execute_result"
    },
    {
     "data": {
      "image/png": "[encoded data removed]"
     },
     "metadata": {
      "jupyter-vega": "#bffe0ef3-d139-4fc3-9f4f-70cb95d79c56"
     },
     "output_type": "display_data"
    }
   ],
   "source": [
    "color = alt.Color('complaint type', scale=alt.Scale(scheme='reds')) \n",
    "\n",
    "alt.Chart(df).mark_bar().encode(\n",
    "    x='sum(quantity)', \n",
    "    y=alt.Y('complaint type'),\n",
    "    color=color\n",
    ")"
   ]
  },
  {
   "cell_type": "markdown",
   "metadata": {},
   "source": [
    "**Here are a few more single-hue colour schemes:**\n",
    "\n",
    "- teals\n",
    "- oranges\n",
    "- reds \n",
    "- purples (...you get the point.)\n",
    "\n",
    "\n",
    "\n",
    "**The following are several more categorical and multi-hue schemes I like:**\n",
    "\n",
    "- plasma\n",
    "- magma\n",
    "- accent\n",
    "- dark2\n",
    "- set3\n",
    "- tableau10\n",
    "\n",
    "\n",
    "Visit Vega's [colour scheme page](https://vega.github.io/vega/docs/schemes/#categorical) for even more options!"
   ]
  },
  {
   "cell_type": "markdown",
   "metadata": {},
   "source": [
    "A default legend is provided when you set colour on a column to show you what category/value each colour corresponds to. This can be helpful but might actually be redundant, and therefore unnecessary in this case, since the information provieded by the legend is already encoded and labelled on the chart itself. To remove the legend, simply set `legend=None` in the color property. It should look something like this:\n",
    "\n",
    "`alt.Color('column to set color on', legend=None)`"
   ]
  },
  {
   "cell_type": "markdown",
   "metadata": {},
   "source": [
    "#### What if I want to swap the colours of the bars?"
   ]
  },
  {
   "cell_type": "markdown",
   "metadata": {},
   "source": [
    "In the `alt.Color()` method, which uses Vega's colour schemes, discrete colours are assigned such that the index of the value in the column you've set `color` on matches the index of the colour in the scheme (at the row that corresponds to the number of values present in your column). I encoded the values for `'complaint type'` as `['disability-related', 'other']`, so the default setting assigns `'disability-related'` the lighter, first-appearing colour in the image below at row 2. "
   ]
  },
  {
   "cell_type": "markdown",
   "metadata": {},
   "source": [
    "<img src=\"images/colour_scheme.png\" style=\"width: 400px;\">"
   ]
  },
  {
   "cell_type": "markdown",
   "metadata": {},
   "source": [
    "In the `domain` argument of Scale &ndash; inside `alt.Color(scheme=alt.Scale())`) &ndash; we can rearrange the order of the values so that they correspond to the order of the colours we want to assign them. Since the categories were originally encoded as `['disability-related', 'other']`, and we want to switch the colour assignments, we do so such that the order matches the order of the colours&mdash;so, in this case we'd want: \n",
    "\n",
    "> `domain=['other', 'disability-related']`. \n",
    "\n",
    "Of course alternatively we could just go back and change the order of the values where we first encoded them into the dataset, but this is an easy way to alter things without having to go back and make actual changes to the data. "
   ]
  },
  {
   "cell_type": "code",
   "execution_count": 7,
   "metadata": {},
   "outputs": [
    {
     "data": {
      "application/javascript": [
       "var spec = {\"config\": {\"view\": {\"width\": 400, \"height\": 300}, \"mark\": {\"tooltip\": null}}, \"data\": {\"name\": \"data-bdeac43d14b48b349f0b339600c01b2a\"}, \"mark\": \"bar\", \"encoding\": {\"color\": {\"type\": \"nominal\", \"field\": \"complaint type\", \"legend\": null, \"scale\": {\"domain\": [\"other\", \"disability-related\"], \"scheme\": \"reds\"}}, \"x\": {\"type\": \"quantitative\", \"aggregate\": \"sum\", \"field\": \"quantity\"}, \"y\": {\"type\": \"nominal\", \"field\": \"complaint type\"}}, \"$schema\": \"https://vega.github.io/schema/vega-lite/v3.2.1.json\", \"datasets\": {\"data-bdeac43d14b48b349f0b339600c01b2a\": [{\"complaint type\": \"disability-related\", \"quantity\": 0.59}, {\"complaint type\": \"other\", \"quantity\": 0.41}]}};\n",
       "var opt = {};\n",
       "var type = \"vega-lite\";\n",
       "var id = \"70fd99b7-1dd2-412c-b8ec-d26e5233eee9\";\n",
       "\n",
       "var output_area = this;\n",
       "\n",
       "require([\"nbextensions/jupyter-vega/index\"], function(vega) {\n",
       "  var target = document.createElement(\"div\");\n",
       "  target.id = id;\n",
       "  target.className = \"vega-embed\";\n",
       "\n",
       "  var style = document.createElement(\"style\");\n",
       "  style.textContent = [\n",
       "    \".vega-embed .error p {\",\n",
       "    \"  color: firebrick;\",\n",
       "    \"  font-size: 14px;\",\n",
       "    \"}\",\n",
       "  ].join(\"\\\\n\");\n",
       "\n",
       "  // element is a jQuery wrapped DOM element inside the output area\n",
       "  // see http://ipython.readthedocs.io/en/stable/api/generated/\\\n",
       "  // IPython.display.html#IPython.display.Javascript.__init__\n",
       "  element[0].appendChild(target);\n",
       "  element[0].appendChild(style);\n",
       "\n",
       "  vega.render(\"#\" + id, spec, type, opt, output_area);\n",
       "}, function (err) {\n",
       "  if (err.requireType !== \"scripterror\") {\n",
       "    throw(err);\n",
       "  }\n",
       "});\n"
      ],
      "text/plain": [
       "<vega.vegalite.VegaLite at 0x10a8390f0>"
      ]
     },
     "metadata": {
      "jupyter-vega": "#70fd99b7-1dd2-412c-b8ec-d26e5233eee9"
     },
     "output_type": "display_data"
    },
    {
     "data": {
      "text/plain": []
     },
     "execution_count": 7,
     "metadata": {},
     "output_type": "execute_result"
    },
    {
     "data": {
      "image/png": "[encoded data removed]"
     },
     "metadata": {
      "jupyter-vega": "#70fd99b7-1dd2-412c-b8ec-d26e5233eee9"
     },
     "output_type": "display_data"
    }
   ],
   "source": [
    "color = alt.Color('complaint type', \n",
    "                  legend=None, \n",
    "                  scale=alt.Scale(scheme='reds', domain=['other', 'disability-related']))\n",
    "                                                    \n",
    "alt.Chart(df).mark_bar().encode(\n",
    "    x='sum(quantity)', \n",
    "    y=alt.Y('complaint type'),\n",
    "    color=color\n",
    ")"
   ]
  },
  {
   "cell_type": "markdown",
   "metadata": {},
   "source": [
    "### Specifying axis information"
   ]
  },
  {
   "cell_type": "markdown",
   "metadata": {},
   "source": [
    "We use `alt.X()` when we want to encode more than just the column name&mdash;maybe we want to include an axis title, formatting (e.g., displaying as percentage, adjusting scale), labels and ticks, etc. \n",
    "\n",
    "To add formatting and set the axis title, I'll use `alt.Axis()` with the arguments \"format\", which sets the text formatting pattern, and \"title\" (as shown in the following code). I like to keep the code in the chart specification as clean as possible, so I prefer building up this extra information outside of the `alt.Chart()` function. I'll assign `alt.Axis(format='%', title='percentage of total complaints')` to a variable called `x_axis` so that I can simply call it from within `alt.X()` and pass it as the axis argument. "
   ]
  },
  {
   "cell_type": "code",
   "execution_count": 8,
   "metadata": {},
   "outputs": [],
   "source": [
    "x_axis = alt.Axis(format='%', title='percentage of total complaints')"
   ]
  },
  {
   "cell_type": "markdown",
   "metadata": {},
   "source": [
    "### Size "
   ]
  },
  {
   "cell_type": "markdown",
   "metadata": {},
   "source": [
    "#### Bars:\n",
    "You can alter the width of the bars by setting `size=desired size as float or int` in the `mark_*` method, as I've done below to make the bars a bit wider than the default width. "
   ]
  },
  {
   "cell_type": "markdown",
   "metadata": {},
   "source": [
    "#### Chart:\n",
    "\n",
    "To adjust the size of the chart, we can set custom measurements with `width` and `height` in the `.properties()` method. "
   ]
  },
  {
   "cell_type": "code",
   "execution_count": 9,
   "metadata": {},
   "outputs": [],
   "source": [
    "chart = alt.Chart(df).mark_bar(size=30).encode(\n",
    "    x=alt.X('sum(quantity)', axis=x_axis), \n",
    "    y=alt.Y('complaint type'), \n",
    "    color=color\n",
    "    \n",
    ").properties(\n",
    "    width=600, \n",
    "    height=90, \n",
    "    title='Breakdown of complaints made to Canadian Human Rights Commission (2018)'\n",
    ")"
   ]
  },
  {
   "cell_type": "markdown",
   "metadata": {},
   "source": [
    "### Title\n",
    "\n",
    "Every chart should have a title&mdash;donut chart is lacking here. To customize your chart title, use `chart.configure_title` . \n",
    "\n",
    "Some useful attributes: \n",
    "\n",
    "- `anchor` sets the title alignment. Valid inputs are 'start' (right alignment), 'middle' (centre) and 'end' (left). \n",
    "- `orient` set the position of the title. Valid inputs are 'top', 'bottom', 'left' and 'right' (with top/bottom corresponding to above/below the chart). \n",
    "- `fontSize` \n",
    "- `font`\n",
    "- `color` \n",
    "\n",
    "Note: By throwing our chart into a variable called `chart`, we can access it in other instances without having to repeatedly include all of the code for the visualization. "
   ]
  },
  {
   "cell_type": "code",
   "execution_count": 10,
   "metadata": {},
   "outputs": [
    {
     "data": {
      "application/javascript": [
       "var spec = {\"config\": {\"view\": {\"width\": 400, \"height\": 300}, \"mark\": {\"tooltip\": null}, \"title\": {\"anchor\": \"middle\", \"color\": \"black\", \"font\": \"Helvetica\", \"fontSize\": 14}}, \"data\": {\"name\": \"data-bdeac43d14b48b349f0b339600c01b2a\"}, \"mark\": {\"type\": \"bar\", \"size\": 30}, \"encoding\": {\"color\": {\"type\": \"nominal\", \"field\": \"complaint type\", \"legend\": null, \"scale\": {\"domain\": [\"other\", \"disability-related\"], \"scheme\": \"reds\"}}, \"x\": {\"type\": \"quantitative\", \"aggregate\": \"sum\", \"axis\": {\"format\": \"%\", \"title\": \"percentage of total complaints\"}, \"field\": \"quantity\"}, \"y\": {\"type\": \"nominal\", \"field\": \"complaint type\"}}, \"height\": 90, \"title\": \"Breakdown of complaints made to Canadian Human Rights Commission (2018)\", \"width\": 600, \"$schema\": \"https://vega.github.io/schema/vega-lite/v3.2.1.json\", \"datasets\": {\"data-bdeac43d14b48b349f0b339600c01b2a\": [{\"complaint type\": \"disability-related\", \"quantity\": 0.59}, {\"complaint type\": \"other\", \"quantity\": 0.41}]}};\n",
       "var opt = {};\n",
       "var type = \"vega-lite\";\n",
       "var id = \"e40a2b32-bfd1-4882-beeb-dad3d675a8b9\";\n",
       "\n",
       "var output_area = this;\n",
       "\n",
       "require([\"nbextensions/jupyter-vega/index\"], function(vega) {\n",
       "  var target = document.createElement(\"div\");\n",
       "  target.id = id;\n",
       "  target.className = \"vega-embed\";\n",
       "\n",
       "  var style = document.createElement(\"style\");\n",
       "  style.textContent = [\n",
       "    \".vega-embed .error p {\",\n",
       "    \"  color: firebrick;\",\n",
       "    \"  font-size: 14px;\",\n",
       "    \"}\",\n",
       "  ].join(\"\\\\n\");\n",
       "\n",
       "  // element is a jQuery wrapped DOM element inside the output area\n",
       "  // see http://ipython.readthedocs.io/en/stable/api/generated/\\\n",
       "  // IPython.display.html#IPython.display.Javascript.__init__\n",
       "  element[0].appendChild(target);\n",
       "  element[0].appendChild(style);\n",
       "\n",
       "  vega.render(\"#\" + id, spec, type, opt, output_area);\n",
       "}, function (err) {\n",
       "  if (err.requireType !== \"scripterror\") {\n",
       "    throw(err);\n",
       "  }\n",
       "});\n"
      ],
      "text/plain": [
       "<vega.vegalite.VegaLite at 0x10a83c4e0>"
      ]
     },
     "metadata": {
      "jupyter-vega": "#e40a2b32-bfd1-4882-beeb-dad3d675a8b9"
     },
     "output_type": "display_data"
    },
    {
     "data": {
      "text/plain": []
     },
     "execution_count": 10,
     "metadata": {},
     "output_type": "execute_result"
    },
    {
     "data": {
      "image/png": "[encoded data removed]"
     },
     "metadata": {
      "jupyter-vega": "#e40a2b32-bfd1-4882-beeb-dad3d675a8b9"
     },
     "output_type": "display_data"
    }
   ],
   "source": [
    "chart.configure_title(\n",
    "    fontSize=14,\n",
    "    font='Helvetica',\n",
    "    anchor='middle',\n",
    "    color='black',\n",
    ")"
   ]
  },
  {
   "cell_type": "markdown",
   "metadata": {},
   "source": [
    "Voilà! Now this data is truly living its best life. "
   ]
  },
  {
   "cell_type": "markdown",
   "metadata": {},
   "source": [
    "## Line charts "
   ]
  },
  {
   "cell_type": "markdown",
   "metadata": {},
   "source": [
    "<img src='images/ghg-emissions.jpeg' style=\"width: 700px;\">"
   ]
  },
  {
   "cell_type": "markdown",
   "metadata": {},
   "source": [
    "_Taken from the provinical government's [2019 budget](http://budget.ontario.ca/2019/chapter-1c.html#c1-20)_"
   ]
  },
  {
   "cell_type": "markdown",
   "metadata": {},
   "source": [
    "### What's wrong with this picture? \n",
    "\n",
    "There's no unit given for the scale on the y-axis. At first glance, it seems that while Ontario and Canada begin at the same starting point (\"1\") in 2005, Ontario's GHG emissions decline sharply while \"the rest of Canada\" experiences little variation over the same period. Notice, however, the incongruency between the title and subtitle (which supposedly describes what's being measured)&mdash;\"Ontario & Friends' Greenhouse Gas _Emissions_ from 2005 to 2016\" versus \"GHG Emissions _Index_\". An index of emissions is quite different from actual emissions in a valid unit of measurement, like megatonnes (Mt) of CO2. This is the unit used in the source data, and the unit I'll be using in my reconstructed visualization. "
   ]
  },
  {
   "cell_type": "markdown",
   "metadata": {},
   "source": [
    "Just doing some basic data cleaning here so I can access the relevant data from the [National Inventory Report from Environment Canada](http://publications.gc.ca/collections/collection_2018/eccc/En81-4-2016-1-eng.pdf) (the same source used for the above chart). "
   ]
  },
  {
   "cell_type": "code",
   "execution_count": 19,
   "metadata": {},
   "outputs": [],
   "source": [
    "df = pd.read_csv(\"ghg-emissions-data.csv\")\n",
    "\n",
    "df.columns = [i.strip() for i in df.columns]\n",
    "df.columns = [i.replace('–','-') for i in df.columns]\n",
    "\n",
    "df.drop(['2005-2016', '1990'], axis=1, inplace=True)\n",
    "\n",
    "df = df.reset_index()\n",
    "df.rename(columns={'index': 'province'}, inplace=True)\n",
    "\n",
    "\n",
    "provinces = []\n",
    "ordered_vals = []\n",
    "year = []\n",
    "\n",
    "for c in df.columns:\n",
    "    for i in df[c]: \n",
    "        if c != 'province':\n",
    "            ordered_vals.append(i)\n",
    "            index = df[df[c] == i].index[0]\n",
    "            prov = df.iloc[index][0]\n",
    "            provinces.append(prov)\n",
    "            year.append(c)\n",
    "            \n",
    "        \n",
    "data = pd.DataFrame()\n",
    "data['emissions'] = ordered_vals\n",
    "data['province'] = provinces\n",
    "data['year'] = year\n",
    "\n",
    "nat_drop = list(data[data['province'] == 'Canada'].index)\n",
    "provs = data.drop(nat_drop, axis=0)"
   ]
  },
  {
   "cell_type": "code",
   "execution_count": 20,
   "metadata": {},
   "outputs": [],
   "source": [
    "for c in df.columns:\n",
    "    for i in df[c]: \n",
    "        if c != 'province':\n",
    "            ordered_vals.append(i)\n",
    "            index = df[df[c] == i].index[0]\n",
    "            prov = df.iloc[index][0]\n",
    "            provinces.append(prov)\n",
    "            year.append(c)"
   ]
  },
  {
   "cell_type": "code",
   "execution_count": 21,
   "metadata": {},
   "outputs": [
    {
     "data": {
      "text/plain": [
       "['2005',\n",
       " '2005',\n",
       " '2005',\n",
       " '2005',\n",
       " '2005',\n",
       " '2005',\n",
       " '2005',\n",
       " '2005',\n",
       " '2005',\n",
       " '2005',\n",
       " '2005',\n",
       " '2005',\n",
       " '2005',\n",
       " '2005',\n",
       " '2011',\n",
       " '2011',\n",
       " '2011',\n",
       " '2011',\n",
       " '2011',\n",
       " '2011',\n",
       " '2011',\n",
       " '2011',\n",
       " '2011',\n",
       " '2011',\n",
       " '2011',\n",
       " '2011',\n",
       " '2011',\n",
       " '2011',\n",
       " '2012',\n",
       " '2012',\n",
       " '2012',\n",
       " '2012',\n",
       " '2012',\n",
       " '2012',\n",
       " '2012',\n",
       " '2012',\n",
       " '2012',\n",
       " '2012',\n",
       " '2012',\n",
       " '2012',\n",
       " '2012',\n",
       " '2012',\n",
       " '2013',\n",
       " '2013',\n",
       " '2013',\n",
       " '2013',\n",
       " '2013',\n",
       " '2013',\n",
       " '2013',\n",
       " '2013',\n",
       " '2013',\n",
       " '2013',\n",
       " '2013',\n",
       " '2013',\n",
       " '2013',\n",
       " '2013',\n",
       " '2014',\n",
       " '2014',\n",
       " '2014',\n",
       " '2014',\n",
       " '2014',\n",
       " '2014',\n",
       " '2014',\n",
       " '2014',\n",
       " '2014',\n",
       " '2014',\n",
       " '2014',\n",
       " '2014',\n",
       " '2014',\n",
       " '2014',\n",
       " '2015',\n",
       " '2015',\n",
       " '2015',\n",
       " '2015',\n",
       " '2015',\n",
       " '2015',\n",
       " '2015',\n",
       " '2015',\n",
       " '2015',\n",
       " '2015',\n",
       " '2015',\n",
       " '2015',\n",
       " '2015',\n",
       " '2015',\n",
       " '2016',\n",
       " '2016',\n",
       " '2016',\n",
       " '2016',\n",
       " '2016',\n",
       " '2016',\n",
       " '2016',\n",
       " '2016',\n",
       " '2016',\n",
       " '2016',\n",
       " '2016',\n",
       " '2016',\n",
       " '2016',\n",
       " '2016',\n",
       " '2005',\n",
       " '2005',\n",
       " '2005',\n",
       " '2005',\n",
       " '2005',\n",
       " '2005',\n",
       " '2005',\n",
       " '2005',\n",
       " '2005',\n",
       " '2005',\n",
       " '2005',\n",
       " '2005',\n",
       " '2005',\n",
       " '2005',\n",
       " '2011',\n",
       " '2011',\n",
       " '2011',\n",
       " '2011',\n",
       " '2011',\n",
       " '2011',\n",
       " '2011',\n",
       " '2011',\n",
       " '2011',\n",
       " '2011',\n",
       " '2011',\n",
       " '2011',\n",
       " '2011',\n",
       " '2011',\n",
       " '2012',\n",
       " '2012',\n",
       " '2012',\n",
       " '2012',\n",
       " '2012',\n",
       " '2012',\n",
       " '2012',\n",
       " '2012',\n",
       " '2012',\n",
       " '2012',\n",
       " '2012',\n",
       " '2012',\n",
       " '2012',\n",
       " '2012',\n",
       " '2013',\n",
       " '2013',\n",
       " '2013',\n",
       " '2013',\n",
       " '2013',\n",
       " '2013',\n",
       " '2013',\n",
       " '2013',\n",
       " '2013',\n",
       " '2013',\n",
       " '2013',\n",
       " '2013',\n",
       " '2013',\n",
       " '2013',\n",
       " '2014',\n",
       " '2014',\n",
       " '2014',\n",
       " '2014',\n",
       " '2014',\n",
       " '2014',\n",
       " '2014',\n",
       " '2014',\n",
       " '2014',\n",
       " '2014',\n",
       " '2014',\n",
       " '2014',\n",
       " '2014',\n",
       " '2014',\n",
       " '2015',\n",
       " '2015',\n",
       " '2015',\n",
       " '2015',\n",
       " '2015',\n",
       " '2015',\n",
       " '2015',\n",
       " '2015',\n",
       " '2015',\n",
       " '2015',\n",
       " '2015',\n",
       " '2015',\n",
       " '2015',\n",
       " '2015',\n",
       " '2016',\n",
       " '2016',\n",
       " '2016',\n",
       " '2016',\n",
       " '2016',\n",
       " '2016',\n",
       " '2016',\n",
       " '2016',\n",
       " '2016',\n",
       " '2016',\n",
       " '2016',\n",
       " '2016',\n",
       " '2016',\n",
       " '2016']"
      ]
     },
     "execution_count": 21,
     "metadata": {},
     "output_type": "execute_result"
    }
   ],
   "source": [
    "year"
   ]
  },
  {
   "cell_type": "markdown",
   "metadata": {},
   "source": [
    "Here I've created a dataframe containing data on Canada's greenhouse gas (GHG) emissions and including the number of emissions (in Mt of CO2), the year over which the emissions were released, and the province the emissions came from. `provs` is a second dataset not including the national total of emissions, whereas this figure is included in `data` ."
   ]
  },
  {
   "cell_type": "markdown",
   "metadata": {},
   "source": [
    "There's also a `point` argument for the `mark_line()` method. If we set `point=True`, we get the line as well as a visual representation of each of the individual data points it intersects. This can be useful for when the data is on the sparse side, and makes it clear where the actual data sit. Remember, unless you have an inordinate number of datapoints, the line is just the trend between two points. Anywhere on the line _between_ two points&mdash;say, Canada's line at the x-value halfway between 2012 and 2013&mdash;isn't necessarily representative of the true y-values (emissions) at that value of x (circa July 2012). "
   ]
  },
  {
   "cell_type": "code",
   "execution_count": 13,
   "metadata": {},
   "outputs": [
    {
     "data": {
      "application/javascript": [
       "var spec = {\"config\": {\"view\": {\"width\": 400, \"height\": 300}, \"mark\": {\"tooltip\": null}, \"axisX\": {\"labelAngle\": 0}}, \"data\": {\"name\": \"data-2a064a3a62ce57128cc1d8fbd9b8206a\"}, \"mark\": {\"type\": \"line\", \"point\": true}, \"encoding\": {\"color\": {\"type\": \"nominal\", \"field\": \"province\", \"scale\": {\"scheme\": \"category20\"}}, \"x\": {\"type\": \"nominal\", \"field\": \"year\"}, \"y\": {\"type\": \"quantitative\", \"field\": \"emissions\"}}, \"height\": 400, \"title\": \"GHG emissions by province\", \"width\": 400, \"$schema\": \"https://vega.github.io/schema/vega-lite/v3.2.1.json\", \"datasets\": {\"data-2a064a3a62ce57128cc1d8fbd9b8206a\": [{\"emissions\": 9.9, \"province\": \"NL\", \"year\": \"2005\"}, {\"emissions\": 2.0, \"province\": \"PE\", \"year\": \"2005\"}, {\"emissions\": 23.2, \"province\": \"NS\", \"year\": \"2005\"}, {\"emissions\": 20.1, \"province\": \"NB\", \"year\": \"2005\"}, {\"emissions\": 86.5, \"province\": \"QC\", \"year\": \"2005\"}, {\"emissions\": 204.7, \"province\": \"ON\", \"year\": \"2005\"}, {\"emissions\": 20.2, \"province\": \"MB\", \"year\": \"2005\"}, {\"emissions\": 68.9, \"province\": \"SK\", \"year\": \"2005\"}, {\"emissions\": 231.0, \"province\": \"AB\", \"year\": \"2005\"}, {\"emissions\": 63.3, \"province\": \"BC\", \"year\": \"2005\"}, {\"emissions\": 0.5, \"province\": \"YT\", \"year\": \"2005\"}, {\"emissions\": 1.6, \"province\": \"NT\", \"year\": \"2005\"}, {\"emissions\": 0.4, \"province\": \"NU\", \"year\": \"2005\"}, {\"emissions\": 10.0, \"province\": \"NL\", \"year\": \"2011\"}, {\"emissions\": 2.1, \"province\": \"PE\", \"year\": \"2011\"}, {\"emissions\": 20.9, \"province\": \"NS\", \"year\": \"2011\"}, {\"emissions\": 18.7, \"province\": \"NB\", \"year\": \"2011\"}, {\"emissions\": 81.7, \"province\": \"QC\", \"year\": \"2011\"}, {\"emissions\": 172.5, \"province\": \"ON\", \"year\": \"2011\"}, {\"emissions\": 19.0, \"province\": \"MB\", \"year\": \"2011\"}, {\"emissions\": 69.0, \"province\": \"SK\", \"year\": \"2011\"}, {\"emissions\": 243.8, \"province\": \"AB\", \"year\": \"2011\"}, {\"emissions\": 59.3, \"province\": \"BC\", \"year\": \"2011\"}, {\"emissions\": 0.7, \"province\": \"YT\", \"year\": \"2011\"}, {\"emissions\": 1.4, \"province\": \"NT\", \"year\": \"2011\"}, {\"emissions\": 0.5, \"province\": \"NU\", \"year\": \"2011\"}, {\"emissions\": 9.4, \"province\": \"NL\", \"year\": \"2012\"}, {\"emissions\": 2.0, \"province\": \"PE\", \"year\": \"2012\"}, {\"emissions\": 19.2, \"province\": \"NS\", \"year\": \"2012\"}, {\"emissions\": 16.8, \"province\": \"NB\", \"year\": \"2012\"}, {\"emissions\": 79.5, \"province\": \"QC\", \"year\": \"2012\"}, {\"emissions\": 169.1, \"province\": \"ON\", \"year\": \"2012\"}, {\"emissions\": 20.2, \"province\": \"MB\", \"year\": \"2012\"}, {\"emissions\": 71.3, \"province\": \"SK\", \"year\": \"2012\"}, {\"emissions\": 256.1, \"province\": \"AB\", \"year\": \"2012\"}, {\"emissions\": 60.3, \"province\": \"BC\", \"year\": \"2012\"}, {\"emissions\": 0.7, \"province\": \"YT\", \"year\": \"2012\"}, {\"emissions\": 1.5, \"province\": \"NT\", \"year\": \"2012\"}, {\"emissions\": 0.6, \"province\": \"NU\", \"year\": \"2012\"}, {\"emissions\": 9.4, \"province\": \"NL\", \"year\": \"2013\"}, {\"emissions\": 1.7, \"province\": \"PE\", \"year\": \"2013\"}, {\"emissions\": 18.2, \"province\": \"NS\", \"year\": \"2013\"}, {\"emissions\": 14.8, \"province\": \"NB\", \"year\": \"2013\"}, {\"emissions\": 79.9, \"province\": \"QC\", \"year\": \"2013\"}, {\"emissions\": 168.4, \"province\": \"ON\", \"year\": \"2013\"}, {\"emissions\": 20.9, \"province\": \"MB\", \"year\": \"2013\"}, {\"emissions\": 74.0, \"province\": \"SK\", \"year\": \"2013\"}, {\"emissions\": 264.9, \"province\": \"AB\", \"year\": \"2013\"}, {\"emissions\": 60.9, \"province\": \"BC\", \"year\": \"2013\"}, {\"emissions\": 0.6, \"province\": \"YT\", \"year\": \"2013\"}, {\"emissions\": 1.4, \"province\": \"NT\", \"year\": \"2013\"}, {\"emissions\": 0.7, \"province\": \"NU\", \"year\": \"2013\"}, {\"emissions\": 10.4, \"province\": \"NL\", \"year\": \"2014\"}, {\"emissions\": 1.7, \"province\": \"PE\", \"year\": \"2014\"}, {\"emissions\": 16.4, \"province\": \"NS\", \"year\": \"2014\"}, {\"emissions\": 14.4, \"province\": \"NB\", \"year\": \"2014\"}, {\"emissions\": 78.0, \"province\": \"QC\", \"year\": \"2014\"}, {\"emissions\": 165.4, \"province\": \"ON\", \"year\": \"2014\"}, {\"emissions\": 20.9, \"province\": \"MB\", \"year\": \"2014\"}, {\"emissions\": 77.4, \"province\": \"SK\", \"year\": \"2014\"}, {\"emissions\": 268.6, \"province\": \"AB\", \"year\": \"2014\"}, {\"emissions\": 60.4, \"province\": \"BC\", \"year\": \"2014\"}, {\"emissions\": 0.4, \"province\": \"YT\", \"year\": \"2014\"}, {\"emissions\": 1.5, \"province\": \"NT\", \"year\": \"2014\"}, {\"emissions\": 0.7, \"province\": \"NU\", \"year\": \"2014\"}, {\"emissions\": 10.6, \"province\": \"NL\", \"year\": \"2015\"}, {\"emissions\": 1.7, \"province\": \"PE\", \"year\": \"2015\"}, {\"emissions\": 16.6, \"province\": \"NS\", \"year\": \"2015\"}, {\"emissions\": 14.3, \"province\": \"NB\", \"year\": \"2015\"}, {\"emissions\": 78.4, \"province\": \"QC\", \"year\": \"2015\"}, {\"emissions\": 162.9, \"province\": \"ON\", \"year\": \"2015\"}, {\"emissions\": 20.8, \"province\": \"MB\", \"year\": \"2015\"}, {\"emissions\": 79.5, \"province\": \"SK\", \"year\": \"2015\"}, {\"emissions\": 266.9, \"province\": \"AB\", \"year\": \"2015\"}, {\"emissions\": 59.4, \"province\": \"BC\", \"year\": \"2015\"}, {\"emissions\": 0.5, \"province\": \"YT\", \"year\": \"2015\"}, {\"emissions\": 1.7, \"province\": \"PE\", \"year\": \"2015\"}, {\"emissions\": 0.6, \"province\": \"NU\", \"year\": \"2015\"}, {\"emissions\": 10.8, \"province\": \"NL\", \"year\": \"2016\"}, {\"emissions\": 1.8, \"province\": \"PE\", \"year\": \"2016\"}, {\"emissions\": 15.6, \"province\": \"NS\", \"year\": \"2016\"}, {\"emissions\": 15.3, \"province\": \"NB\", \"year\": \"2016\"}, {\"emissions\": 77.3, \"province\": \"QC\", \"year\": \"2016\"}, {\"emissions\": 160.6, \"province\": \"ON\", \"year\": \"2016\"}, {\"emissions\": 20.9, \"province\": \"MB\", \"year\": \"2016\"}, {\"emissions\": 76.3, \"province\": \"SK\", \"year\": \"2016\"}, {\"emissions\": 262.9, \"province\": \"AB\", \"year\": \"2016\"}, {\"emissions\": 60.1, \"province\": \"BC\", \"year\": \"2016\"}, {\"emissions\": 0.4, \"province\": \"YT\", \"year\": \"2016\"}, {\"emissions\": 1.6, \"province\": \"NT\", \"year\": \"2016\"}, {\"emissions\": 0.7, \"province\": \"NU\", \"year\": \"2016\"}]}};\n",
       "var opt = {};\n",
       "var type = \"vega-lite\";\n",
       "var id = \"da0185bd-f471-4a17-b256-fe7aa2dbdc34\";\n",
       "\n",
       "var output_area = this;\n",
       "\n",
       "require([\"nbextensions/jupyter-vega/index\"], function(vega) {\n",
       "  var target = document.createElement(\"div\");\n",
       "  target.id = id;\n",
       "  target.className = \"vega-embed\";\n",
       "\n",
       "  var style = document.createElement(\"style\");\n",
       "  style.textContent = [\n",
       "    \".vega-embed .error p {\",\n",
       "    \"  color: firebrick;\",\n",
       "    \"  font-size: 14px;\",\n",
       "    \"}\",\n",
       "  ].join(\"\\\\n\");\n",
       "\n",
       "  // element is a jQuery wrapped DOM element inside the output area\n",
       "  // see http://ipython.readthedocs.io/en/stable/api/generated/\\\n",
       "  // IPython.display.html#IPython.display.Javascript.__init__\n",
       "  element[0].appendChild(target);\n",
       "  element[0].appendChild(style);\n",
       "\n",
       "  vega.render(\"#\" + id, spec, type, opt, output_area);\n",
       "}, function (err) {\n",
       "  if (err.requireType !== \"scripterror\") {\n",
       "    throw(err);\n",
       "  }\n",
       "});\n"
      ],
      "text/plain": [
       "<vega.vegalite.VegaLite at 0x1092646d8>"
      ]
     },
     "metadata": {
      "jupyter-vega": "#da0185bd-f471-4a17-b256-fe7aa2dbdc34"
     },
     "output_type": "display_data"
    },
    {
     "data": {
      "text/plain": []
     },
     "execution_count": 13,
     "metadata": {},
     "output_type": "execute_result"
    },
    {
     "data": {
      "image/png": "[encoded data removed]"
     },
     "metadata": {
      "jupyter-vega": "#da0185bd-f471-4a17-b256-fe7aa2dbdc34"
     },
     "output_type": "display_data"
    }
   ],
   "source": [
    "chart = alt.Chart(provs).mark_line(point=True).encode(\n",
    "    x=alt.X('year:N'),\n",
    "    y=alt.Y('emissions:Q'),\n",
    "    color=alt.Color('province:N', \n",
    "                   scale=alt.Scale(\n",
    "                   scheme='category20')\n",
    "                   )\n",
    ").properties(\n",
    "    width=400,\n",
    "    height=400,\n",
    "    title='GHG emissions by province')\n",
    "\n",
    "chart.configure_axisX(labelAngle=0) # this sets the angle of the x-ticks"
   ]
  },
  {
   "cell_type": "markdown",
   "metadata": {},
   "source": [
    "As we can see, Ontario is actually still producing a far greater quantity of emissions than any other province except for Alberta. The following is the text accompanying the original chart:\n",
    "\n",
    "_Ontario has been a leader in the efforts to tackle climate change. Compared with 2005, the province’s total greenhouse gas emissions have dropped by 22 per cent — even while the rest of Canada saw emissions increase by three per cent during the same time period._\n",
    "\n",
    "In splitting the data this way (Ontario vs. the rest of Canada) the trend observed for \"the rest of Canada\" is highly influenced by Alberta's emissions. That is, the only reason the rest of Canada saw a 3% increase in emissions is because Alberta saw a substantial increase, while most other provinces either stayed the same or saw a decrease in emissions. "
   ]
  },
  {
   "cell_type": "markdown",
   "metadata": {},
   "source": [
    "<img src='images/i-see-u.jpeg' style=\"width: 200px;\">\n"
   ]
  },
  {
   "cell_type": "code",
   "execution_count": 14,
   "metadata": {},
   "outputs": [
    {
     "name": "stderr",
     "output_type": "stream",
     "text": [
      "/anaconda3/lib/python3.7/site-packages/pandas/core/frame.py:4025: SettingWithCopyWarning: \n",
      "A value is trying to be set on a copy of a slice from a DataFrame\n",
      "\n",
      "See the caveats in the documentation: http://pandas.pydata.org/pandas-docs/stable/indexing.html#indexing-view-versus-copy\n",
      "  return super(DataFrame, self).rename(**kwargs)\n"
     ]
    }
   ],
   "source": [
    "canada_tot = data[data['province'] == 'Canada']\n",
    "\n",
    "ontario = data[data['province'] == 'ON']\n",
    "\n",
    "ontario.rename(columns={'emissions':'emissions_on', 'province': 'province_on'}, inplace=True)\n",
    "\n",
    "can_on = pd.merge(canada_tot, ontario, on='year')\n",
    "\n",
    "\n",
    "# Subtracting Ontario's yearly emissions from Canada's total yearly emissions in order to plot\n",
    "# Ontario against the rest of Canada\n",
    "rest_of_canada = []\n",
    "\n",
    "for i in can_on['emissions']:           \n",
    "    index = can_on[can_on['emissions'] == i].index[0]\n",
    "    on = can_on.iloc[index][3]\n",
    "    rest_of_canada.append(i - on)\n",
    " \n",
    "\n",
    "can_on['rest_of_canada'] = rest_of_canada\n",
    "\n",
    "rest_of_canada # this now includes all the values of GHG emissions from every province but Ontario. \n",
    "\n",
    "\n",
    "# spinning up a new dataframe with the values for the rest of Canada\n",
    "canada_minus_on = pd.DataFrame({\n",
    "    'emissions': rest_of_canada, \n",
    "    'province': ['rest_of_canada','rest_of_canada','rest_of_canada','rest_of_canada','rest_of_canada',\\\n",
    "                 'rest_of_canada','rest_of_canada'], \n",
    "    'year': [2005, 2011, 2012, 2013, 2014, 2015, 2016]\n",
    "})\n",
    "\n",
    "totals = provs.append(canada_minus_on)\n",
    "\n",
    "# comparing Ontario and the rest of Canada\n",
    "can_vs_on = totals[(totals['province'] == 'rest_of_canada') | (totals['province']== 'ON')]"
   ]
  },
  {
   "cell_type": "markdown",
   "metadata": {},
   "source": [
    "#### Finally, a slightly more accurate visual depiction of these data. "
   ]
  },
  {
   "cell_type": "code",
   "execution_count": 15,
   "metadata": {},
   "outputs": [
    {
     "data": {
      "application/javascript": [
       "var spec = {\"config\": {\"view\": {\"width\": 400, \"height\": 300}, \"mark\": {\"tooltip\": null}, \"axisX\": {\"labelAngle\": 0}}, \"data\": {\"name\": \"data-f4c00685f5c3e540181c40e99320ba50\"}, \"mark\": {\"type\": \"line\", \"point\": true}, \"encoding\": {\"color\": {\"type\": \"nominal\", \"field\": \"province\", \"scale\": {\"scheme\": \"plasma\"}}, \"x\": {\"type\": \"nominal\", \"field\": \"year\"}, \"y\": {\"type\": \"quantitative\", \"axis\": {\"title\": \"emissions (in Mt of CO2)\"}, \"field\": \"emissions\"}}, \"height\": 400, \"title\": \"Ontario and the Rest of Canada's GHG Emissions from 2005 to 2016\", \"width\": 500, \"$schema\": \"https://vega.github.io/schema/vega-lite/v3.2.1.json\", \"datasets\": {\"data-f4c00685f5c3e540181c40e99320ba50\": [{\"emissions\": 204.7, \"province\": \"ON\", \"year\": \"2005\"}, {\"emissions\": 172.5, \"province\": \"ON\", \"year\": \"2011\"}, {\"emissions\": 169.1, \"province\": \"ON\", \"year\": \"2012\"}, {\"emissions\": 168.4, \"province\": \"ON\", \"year\": \"2013\"}, {\"emissions\": 165.4, \"province\": \"ON\", \"year\": \"2014\"}, {\"emissions\": 162.9, \"province\": \"ON\", \"year\": \"2015\"}, {\"emissions\": 160.6, \"province\": \"ON\", \"year\": \"2016\"}, {\"emissions\": 527.3, \"province\": \"rest_of_canada\", \"year\": 2005}, {\"emissions\": 527.5, \"province\": \"rest_of_canada\", \"year\": 2011}, {\"emissions\": 537.9, \"province\": \"rest_of_canada\", \"year\": 2012}, {\"emissions\": 547.6, \"province\": \"rest_of_canada\", \"year\": 2013}, {\"emissions\": 547.6, \"province\": \"rest_of_canada\", \"year\": 2014}, {\"emissions\": 551.1, \"province\": \"rest_of_canada\", \"year\": 2015}, {\"emissions\": 543.4, \"province\": \"rest_of_canada\", \"year\": 2016}]}};\n",
       "var opt = {};\n",
       "var type = \"vega-lite\";\n",
       "var id = \"db02a38c-00f5-4ef6-b85d-e9c7ab9515e6\";\n",
       "\n",
       "var output_area = this;\n",
       "\n",
       "require([\"nbextensions/jupyter-vega/index\"], function(vega) {\n",
       "  var target = document.createElement(\"div\");\n",
       "  target.id = id;\n",
       "  target.className = \"vega-embed\";\n",
       "\n",
       "  var style = document.createElement(\"style\");\n",
       "  style.textContent = [\n",
       "    \".vega-embed .error p {\",\n",
       "    \"  color: firebrick;\",\n",
       "    \"  font-size: 14px;\",\n",
       "    \"}\",\n",
       "  ].join(\"\\\\n\");\n",
       "\n",
       "  // element is a jQuery wrapped DOM element inside the output area\n",
       "  // see http://ipython.readthedocs.io/en/stable/api/generated/\\\n",
       "  // IPython.display.html#IPython.display.Javascript.__init__\n",
       "  element[0].appendChild(target);\n",
       "  element[0].appendChild(style);\n",
       "\n",
       "  vega.render(\"#\" + id, spec, type, opt, output_area);\n",
       "}, function (err) {\n",
       "  if (err.requireType !== \"scripterror\") {\n",
       "    throw(err);\n",
       "  }\n",
       "});\n"
      ],
      "text/plain": [
       "<vega.vegalite.VegaLite at 0x10a83c6d8>"
      ]
     },
     "metadata": {
      "jupyter-vega": "#db02a38c-00f5-4ef6-b85d-e9c7ab9515e6"
     },
     "output_type": "display_data"
    },
    {
     "data": {
      "text/plain": []
     },
     "execution_count": 15,
     "metadata": {},
     "output_type": "execute_result"
    },
    {
     "data": {
      "image/png": "[encoded data removed]"
     },
     "metadata": {
      "jupyter-vega": "#db02a38c-00f5-4ef6-b85d-e9c7ab9515e6"
     },
     "output_type": "display_data"
    }
   ],
   "source": [
    "axis = alt.Axis(title='emissions (in Mt of CO2)')\n",
    "\n",
    "chart = alt.Chart(can_vs_on).mark_line(point=True).encode(\n",
    "    x=alt.X('year:N'),\n",
    "    y=alt.Y('emissions:Q', axis=axis),\n",
    "    color=alt.Color('province:N', \n",
    "                   scale=alt.Scale(\n",
    "                   scheme='plasma')\n",
    "                   )\n",
    ").properties(\n",
    "    width=500,\n",
    "    height=400,\n",
    "    title='Ontario and the Rest of Canada\\'s GHG Emissions from 2005 to 2016')\n",
    "\n",
    "chart.configure_axisX(labelAngle=0) # this sets the angle of the x-ticks"
   ]
  },
  {
   "cell_type": "markdown",
   "metadata": {},
   "source": [
    "From this representation, it's clear that Ontario and the rest of Canada have drastically different starting points&mdash;quite contrary to what the chart from the budget would have you think!"
   ]
  },
  {
   "cell_type": "markdown",
   "metadata": {},
   "source": [
    "## More line charts"
   ]
  },
  {
   "cell_type": "markdown",
   "metadata": {},
   "source": [
    "<img src=\"images/aul-fakenews.jpeg\" style=\"width: 600px;\">  "
   ]
  },
  {
   "cell_type": "markdown",
   "metadata": {},
   "source": [
    "#### What's wrong with this picture?\n",
    "\n",
    "- No scale for y-axis\n",
    "\n",
    "\n",
    "- Missing axis labels\n",
    "\n",
    "\n",
    "- Differing y-axes for each line, since the number of prevention services performed in 2013 still far exceeds the number of abortions (in the order of 600,000), and yet the prevention data at 2013 is depicted as below the data for abortions at the exact same x-value. "
   ]
  },
  {
   "cell_type": "markdown",
   "metadata": {},
   "source": [
    "<img src='images/side-eye.png' style=\"width: 300px;\">"
   ]
  },
  {
   "cell_type": "markdown",
   "metadata": {},
   "source": [
    "- You'll also notice the slopes of the lines are about the same, upon quick visual inspection. The difference between abortions performed in 2006 (289,750) and those performed in 2013 (327,000) is much less than the difference between prevention services performed in 2006 (2,007,371) and those performed in 2013 (935,573). We can further quantify this by comparing the slopes: "
   ]
  },
  {
   "cell_type": "code",
   "execution_count": 16,
   "metadata": {},
   "outputs": [
    {
     "name": "stdout",
     "output_type": "stream",
     "text": [
      "The slope of A (abortions) is: 5321.43\n",
      "The slope of B (cancer screening and prevention services) is: -153114.0\n"
     ]
    }
   ],
   "source": [
    "print(f'The slope of A (abortions) is: {round((327_000 - 289_750) / (2013 - 2006), 2)}')\n",
    "print(f'The slope of B (cancer screening and prevention services) is: {(935_573 - 2_007_371) / (2013 - 2006)}')"
   ]
  },
  {
   "cell_type": "markdown",
   "metadata": {},
   "source": [
    "<center> \n",
    "$m_A = 5321.43$\n",
    "\n",
    "<center>\n",
    "$m_B = -153114.0$\n",
    "\n",
    " </center>\n",
    " </center>\n",
    " \n",
    "> Every year (i.e., for every 1 unit in increase along the x-axis), there are 5321 more abortions performed.\n",
    "\n",
    ">Every year, there are 153114 fewer prevention and screening services performed. "
   ]
  },
  {
   "cell_type": "code",
   "execution_count": 17,
   "metadata": {},
   "outputs": [],
   "source": [
    "aul_df = pd.DataFrame({\n",
    "    'service': ['abortion', 'abortion', 'cancer screening & prevention', \\\n",
    "                'cancer screening & prevention'],\n",
    "    'services performed':[289_750, 327_000, 2_007_371, 985_573],\n",
    "    'year': [2006, 2013, 2006, 2013]\n",
    "})\n",
    "\n",
    "aul_df.year = pd.to_datetime(aul_df.year, format='%Y')\n",
    "\n",
    "aul_df['services performed'] = [i/1000 for i in aul_df['services performed']]"
   ]
  },
  {
   "cell_type": "code",
   "execution_count": 18,
   "metadata": {},
   "outputs": [
    {
     "data": {
      "application/javascript": [
       "var spec = {\"config\": {\"view\": {\"width\": 400, \"height\": 300}, \"mark\": {\"tooltip\": null}, \"legend\": {\"columns\": 1, \"cornerRadius\": 10, \"fillColor\": \"#EEEEEE\", \"orient\": \"top-right\", \"padding\": 6, \"strokeColor\": \"gray\"}}, \"data\": {\"name\": \"data-d9a549c4d209f05fa3efd70269b6180a\"}, \"mark\": \"line\", \"encoding\": {\"color\": {\"type\": \"nominal\", \"field\": \"service\", \"scale\": {\"scheme\": \"magma\"}}, \"x\": {\"type\": \"temporal\", \"axis\": {\"title\": \"Year\", \"titleFontSize\": 13}, \"field\": \"year\"}, \"y\": {\"type\": \"quantitative\", \"axis\": {\"title\": \"Services Performed (in thousands)\", \"titleFontSize\": 13}, \"field\": \"services performed\"}}, \"height\": 400, \"title\": \"Planned Parenthood Services Performed in 2006 and 2013\", \"width\": 500, \"$schema\": \"https://vega.github.io/schema/vega-lite/v3.2.1.json\", \"datasets\": {\"data-d9a549c4d209f05fa3efd70269b6180a\": [{\"service\": \"abortion\", \"services performed\": 289.75, \"year\": \"2006-01-01T00:00:00\"}, {\"service\": \"abortion\", \"services performed\": 327.0, \"year\": \"2013-01-01T00:00:00\"}, {\"service\": \"cancer screening & prevention\", \"services performed\": 2007.371, \"year\": \"2006-01-01T00:00:00\"}, {\"service\": \"cancer screening & prevention\", \"services performed\": 985.573, \"year\": \"2013-01-01T00:00:00\"}]}};\n",
       "var opt = {};\n",
       "var type = \"vega-lite\";\n",
       "var id = \"e86bb1b4-7bec-40bb-a04f-fa0b5d026b4e\";\n",
       "\n",
       "var output_area = this;\n",
       "\n",
       "require([\"nbextensions/jupyter-vega/index\"], function(vega) {\n",
       "  var target = document.createElement(\"div\");\n",
       "  target.id = id;\n",
       "  target.className = \"vega-embed\";\n",
       "\n",
       "  var style = document.createElement(\"style\");\n",
       "  style.textContent = [\n",
       "    \".vega-embed .error p {\",\n",
       "    \"  color: firebrick;\",\n",
       "    \"  font-size: 14px;\",\n",
       "    \"}\",\n",
       "  ].join(\"\\\\n\");\n",
       "\n",
       "  // element is a jQuery wrapped DOM element inside the output area\n",
       "  // see http://ipython.readthedocs.io/en/stable/api/generated/\\\n",
       "  // IPython.display.html#IPython.display.Javascript.__init__\n",
       "  element[0].appendChild(target);\n",
       "  element[0].appendChild(style);\n",
       "\n",
       "  vega.render(\"#\" + id, spec, type, opt, output_area);\n",
       "}, function (err) {\n",
       "  if (err.requireType !== \"scripterror\") {\n",
       "    throw(err);\n",
       "  }\n",
       "});\n"
      ],
      "text/plain": [
       "<vega.vegalite.VegaLite at 0x10acf5860>"
      ]
     },
     "metadata": {
      "jupyter-vega": "#e86bb1b4-7bec-40bb-a04f-fa0b5d026b4e"
     },
     "output_type": "display_data"
    },
    {
     "data": {
      "text/plain": []
     },
     "execution_count": 18,
     "metadata": {},
     "output_type": "execute_result"
    },
    {
     "data": {
      "image/png": "[encoded data removed]"
     },
     "metadata": {
      "jupyter-vega": "#e86bb1b4-7bec-40bb-a04f-fa0b5d026b4e"
     },
     "output_type": "display_data"
    }
   ],
   "source": [
    "x_axis = alt.Axis(title='Year', titleFontSize=13)\n",
    "y_axis = alt.Axis(title='Services Performed (in thousands)', titleFontSize=13)\n",
    "\n",
    "color = alt.Color('service', scale=alt.Scale(scheme='magma'))   \n",
    "\n",
    "ppchart = alt.Chart(aul_df).mark_line().encode(\n",
    "    x=alt.X('year', axis=x_axis),\n",
    "    y=alt.Y('services performed', axis=y_axis),\n",
    "    color=color\n",
    "    \n",
    ").properties(\n",
    "    title= 'Planned Parenthood Services Performed in 2006 and 2013',\n",
    "    width=500,\n",
    "    height=400\n",
    ")\n",
    "\n",
    "ppchart.configure_title(\n",
    "    anchor='middle',\n",
    "    fontSize=20,\n",
    "    color='black',\n",
    "    font='Helvetica'\n",
    ")\n",
    "\n",
    "ppchart.configure_legend(\n",
    "    columns=1,\n",
    "    strokeColor='gray',\n",
    "    fillColor='#EEEEEE',\n",
    "    padding=6,\n",
    "    cornerRadius=10,\n",
    "    orient='top-right'\n",
    ")"
   ]
  },
  {
   "cell_type": "markdown",
   "metadata": {},
   "source": [
    "How this chart is better: \n",
    "\n",
    "- uses a valid, to-scale y-axis \n",
    "\n",
    "- labels for both axes \n",
    "\n",
    "- it has a consistent, shared y-axis for both lines.\n"
   ]
  },
  {
   "cell_type": "markdown",
   "metadata": {},
   "source": [
    "### Hope you enjoyed! Good luck making great visualizations with Altair 🚀"
   ]
  }
 ],
 "metadata": {
  "kernelspec": {
   "display_name": "Python 3",
   "language": "python",
   "name": "python3"
  },
  "language_info": {
   "codemirror_mode": {
    "name": "ipython",
    "version": 3
   },
   "file_extension": ".py",
   "mimetype": "text/x-python",
   "name": "python",
   "nbconvert_exporter": "python",
   "pygments_lexer": "ipython3",
   "version": "3.7.3"
  }
 },
 "nbformat": 4,
 "nbformat_minor": 2
}
