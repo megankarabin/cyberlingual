{
 "cells": [
  {
   "cell_type": "markdown",
   "metadata": {},
   "source": [
    "Title: Advanced Jinja: filters & variables\n",
    "Date: 2019-08-06 13:43\n",
    "Tags: python, jinja\n",
    "Slug: blog_3"
   ]
  },
  {
   "cell_type": "markdown",
   "metadata": {},
   "source": [
    "Want to learn how to be a Jinja ninja? (I've always wanted to use those words together in a sentence and this seemed like the perfect opportunity #notsorry) \n",
    "\n",
    "In this post I'll explain how you can use Jinja filters to access python functions and libraries from within an html doc, as well as how to create new variables from _within_ your Jinja template (rather than from the python script linked to the template). I'll be assuming that readers are familiar with basic Jinja, but if you're totally new to it and want to brush up on the basics before reading further, check out [this blog post](https://vishalsharma01.github.io/Blog/blog-3.html)!"
   ]
  },
  {
   "cell_type": "markdown",
   "metadata": {},
   "source": [
    "### Recap: What is Jinja? \n",
    "\n",
    "Jinja is a python library and a **template engine**, which is a software designed to let you produce a text output from your code. Of course, in python, we could just do that using `print('your text output')`. \n",
    "\n",
    "So, what's special about a template engine and why might we need one? \n",
    "\n",
    "Basically, Jinja enables your code to communicate with a template, like an HTML document, for example, which traditionally only allows for static inputs/outputs. HTML doesn't have an ability to use control flow, or encode mutable variables, for instance. There are many template engines out there, but Jinja is built specifically to interact with python. Using Jinja, we can actually use python programming within a text/HTML document such that our result outputs are consistent with any data (in models) we're using for our web application. \n",
    "\n",
    "### Installation \n",
    "\n",
    "If you haven't already done so, you can install Jinja by running either of the following commands:\n",
    "\n",
    "``` \n",
    "easy_install Jinja2\n",
    "pip install Jinja2\n",
    "\n",
    "```\n",
    "\n",
    "If neither of these work and you're having trouble installing, check out the documentation [here](http://jinja.pocoo.org/docs/2.10/intro/#installation) for more detailed instructions. "
   ]
  },
  {
   "cell_type": "code",
   "execution_count": 1,
   "metadata": {},
   "outputs": [],
   "source": [
    "import pandas as pd\n",
    "import numpy as np\n",
    "import pathlib \n",
    "from jinja2 import Template\n",
    "from jinja2 import Environment, FileSystemLoader\n",
    "from IPython.core.display import HTML\n",
    "\n",
    "p = pathlib.Path(\"j-templates/\") \n",
    "p.mkdir(parents=True, exist_ok=True) "
   ]
  },
  {
   "cell_type": "code",
   "execution_count": 2,
   "metadata": {},
   "outputs": [],
   "source": [
    "file_loader = FileSystemLoader('j-templates') \n",
    "            # loads files from a specified directory (the so-called \"file system\" -- here, the one \n",
    "            # we've just created, 'j-templates')\n",
    "\n",
    "env = Environment(loader=file_loader) \n",
    "                # the \"loader\" argument sets the template loader for this environment. "
   ]
  },
  {
   "cell_type": "markdown",
   "metadata": {},
   "source": [
    "- The template loader is the file system (i.e., directory) from which you'll be accessing files/templates. It's helpful to do this when you'll be spinning up toy files to practice on or for the sake of demonstration, like I'll be doing in this post.\n",
    "\n",
    "\n",
    "- The template class \"`Environment`\" is the core component of Jinja. Instances of it are used to store global variables and load templates, but generally you won't need to configure custom instances of it when you're using Jinja in an application &mdash; most instantiate just once (automatically) upon initializing the application. "
   ]
  },
  {
   "cell_type": "markdown",
   "metadata": {},
   "source": [
    "I'm going to be using a pokemon dataset, so here I'm just bringing that in and cleaning up the column names. "
   ]
  },
  {
   "cell_type": "code",
   "execution_count": 3,
   "metadata": {},
   "outputs": [],
   "source": [
    "df = pd.read_csv('hackathon/data/pokemon.csv')\n",
    "\n",
    "df.columns = [i.lower().replace(' ', '_').replace('.', '') for i in df.columns]"
   ]
  },
  {
   "cell_type": "code",
   "execution_count": 4,
   "metadata": {},
   "outputs": [
    {
     "data": {
      "text/plain": [
       "'Mew'"
      ]
     },
     "execution_count": 4,
     "metadata": {},
     "output_type": "execute_result"
    }
   ],
   "source": [
    "pokemon = list(df.name)"
   ]
  },
  {
   "cell_type": "markdown",
   "metadata": {},
   "source": [
    "### Filters"
   ]
  },
  {
   "cell_type": "markdown",
   "metadata": {},
   "source": [
    "Filters are an incredibly helpful feature baked into Jinja &ndash; **they allow you to use any desired python functions (including ones you've written), libraries and/or modules along with their associated methods.** \n",
    "\n",
    "Below, I want to get a randomly generated pokemon from my list of pokemon, and for that I'll need `np.random.choice`. I am **not** able to simply use code that looks like the following code block:"
   ]
  },
  {
   "cell_type": "markdown",
   "metadata": {},
   "source": [
    "<img src='https://i.imgur.com/ySrLNu6.png' width=350px;>"
   ]
  },
  {
   "cell_type": "markdown",
   "metadata": {},
   "source": [
    "This code is invalid and won't run. But it isn't over yet &mdash; **Jinja can still access libraries through filters!**"
   ]
  },
  {
   "cell_type": "markdown",
   "metadata": {},
   "source": [
    "### `env.filters`"
   ]
  },
  {
   "cell_type": "markdown",
   "metadata": {},
   "source": [
    "\n",
    "The filters for an environment can be viewed by calling the dot filters method, which will provide you with a dictionary whose keys are the filters (their names) and whose values are the particular object they house. \n",
    "\n",
    "By creating our own filter as a key-value pair, we can use virtually any function (or library) available to us in Python in Jinja! Below I'm setting a new key called `\"select_random\"` containing the random choice function. \n",
    "\n",
    "_Make sure to import the necessary libraries, modules and/or functions beforehand and create any aliases you want to use &mdash; e.g., I imported numpy as np earlier._"
   ]
  },
  {
   "cell_type": "code",
   "execution_count": 5,
   "metadata": {},
   "outputs": [],
   "source": [
    "env.filters['select_random'] = np.random.choice"
   ]
  },
  {
   "cell_type": "markdown",
   "metadata": {},
   "source": [
    "Now, as you can see in the following code output, my new `select_random` key has been added to the dictionary (at the very bottom). "
   ]
  },
  {
   "cell_type": "code",
   "execution_count": 6,
   "metadata": {},
   "outputs": [
    {
     "name": "stdout",
     "output_type": "stream",
     "text": [
      "54 \n",
      "\n",
      "'striptags' : <function do_striptags at 0x115287730>\n",
      "'sum' : <function do_sum at 0x1155909d8>\n",
      "'title' : <function do_title at 0x1152999d8>\n",
      "'trim' : <function do_trim at 0x1152876a8>\n",
      "'truncate' : <function do_truncate at 0x115287378>\n",
      "'unique' : <function do_unique at 0x115299b70>\n",
      "'upper' : <function do_upper at 0x1152997b8>\n",
      "'urlencode' : <function do_urlencode at 0x1152996a8>\n",
      "'urlize' : <function do_urlize at 0x115287268>\n",
      "'wordcount' : <function do_wordcount at 0x115287488>\n",
      "'wordwrap' : <function do_wordwrap at 0x115287400>\n",
      "'xmlattr' : <function do_xmlattr at 0x1152998c8>\n",
      "'tojson' : <function do_tojson at 0x11529b2f0>\n",
      "'select_random' : <built-in method choice of mtrand.RandomState object at 0x106cd57e0>\n"
     ]
    }
   ],
   "source": [
    "print(len(env.filters), '\\n') # this is how many actual keys there are\n",
    "list(env.filters)[40:]  \n",
    "# ^ here I'm indexing the last 10 just to demonstrate what the dict looks like without having 50+ k-v pairs \n",
    "\n",
    "for i in list(env.filters)[40:]:\n",
    "    print(f'\\'{i}\\' :', env.filters[i])"
   ]
  },
  {
   "cell_type": "markdown",
   "metadata": {},
   "source": [
    "Now we can call the function that it contains **in** Jinja! The way this is done is quite simple, though slightly different from how we're used to calling functions with the usual python syntax. For a function in python code that looks like this:\n",
    "```\n",
    "function(arg)\n",
    "\n",
    "```\n",
    "\n",
    "here's how it's formulated in Jinja: \n",
    "\n",
    "```\n",
    "{{ arg | function }}\n",
    "```\n",
    "\n",
    "See the example below using the newly created `select_random` filter."
   ]
  },
  {
   "cell_type": "code",
   "execution_count": 7,
   "metadata": {},
   "outputs": [
    {
     "name": "stdout",
     "output_type": "stream",
     "text": [
      "Overwriting j-templates/fun.html\n"
     ]
    }
   ],
   "source": [
    "%%writefile j-templates/fun.html\n",
    "\n",
    "<!DOCTYPE html>\n",
    "<html lang=\"en\">\n",
    "<head>\n",
    "    <title>My pokemon</title>\n",
    "</head>\n",
    "\n",
    " <p>My randomly selected pokémon : {{ my_pokemon|select_random }} </p>\n",
    "\n",
    "</html>"
   ]
  },
  {
   "cell_type": "code",
   "execution_count": 9,
   "metadata": {},
   "outputs": [
    {
     "data": {
      "text/html": [
       "\n",
       "<!DOCTYPE html>\n",
       "<html lang=\"en\">\n",
       "<head>\n",
       "    <title>My pokemon</title>\n",
       "</head>\n",
       "\n",
       " <p>My randomly selected pokémon : Starmie </p>\n",
       "\n",
       "</html>"
      ],
      "text/plain": [
       "<IPython.core.display.HTML object>"
      ]
     },
     "execution_count": 9,
     "metadata": {},
     "output_type": "execute_result"
    }
   ],
   "source": [
    "template = env.get_template('fun.html') \n",
    "# making a jinja template for the file we created in the above codeblock\n",
    "\n",
    "output = template.render(my_pokemon=pokemon) \n",
    "# assigning our pokemon variable (and all of its contents) to a jinja template variable, which we're calling 'my_pokemon'\n",
    "\n",
    "HTML(output)"
   ]
  },
  {
   "cell_type": "markdown",
   "metadata": {},
   "source": [
    "Let's break down what's happening here: \n",
    "\n",
    "```\n",
    "env.get_template()\n",
    "\n",
    "```\n",
    "> Calling this method on our environment will load whatever we input (i.e., the desired file) as a Jinja template. \n",
    "This is how we \"tell\" Jinja that this is the file we want to use. We're then throwing the result into a variable called `template`.\n",
    "\n",
    "```\n",
    "template.render\n",
    "```\n",
    "\n",
    "> Performing the previous step sets up the file as a Jinja template, which then means we can use the `.render` method on it. The arguments passed to `template.render` are the names of all variables to be used in the script. \n",
    "This step is crucial to ensuring that the template can communicate with/access variables in our python script."
   ]
  },
  {
   "cell_type": "markdown",
   "metadata": {},
   "source": [
    "### Custom functions & setting variables in Jinja\n",
    "\n",
    "The beauty of filters is that we can write any function in python and \"import\" it into jinja this way. \n",
    "\n",
    "Building on top of the last example, where we built in the random generator, let's say that I only like fire pokemon, and want to print \"good\" every time the randomly selected pokemon is a fire type and \"bad\" for every one _not_ of type fire, along with their actual type. I can write a quick function to do this and then use a filter to bring it into Jinja. \n",
    "\n",
    "Note that because we want to reuse the randomly generated pokemon, we'll have to use a variable (Jinja's syntax isn't as flexible as python's and doesn't allow for infinite nesting using brackets). This is made fairly simple using Jinja's `{% set x = y %}` syntax. "
   ]
  },
  {
   "cell_type": "code",
   "execution_count": 94,
   "metadata": {},
   "outputs": [],
   "source": [
    "def is_fire_pokemon(pokemon='Charmander'):\n",
    "    poketype_1 = df[df['name'] == pokemon]['type_1'].to_list()[0]\n",
    "    if poketype_1 == 'Fire':\n",
    "        return f'{pokemon}, Good'\n",
    "    else:\n",
    "        return f'{pokemon}, Bad: {poketype_1}'"
   ]
  },
  {
   "cell_type": "code",
   "execution_count": 100,
   "metadata": {},
   "outputs": [
    {
     "data": {
      "text/plain": [
       "'Rattata, Bad: Normal'"
      ]
     },
     "execution_count": 100,
     "metadata": {},
     "output_type": "execute_result"
    }
   ],
   "source": [
    "is_fire_pokemon('Rattata')"
   ]
  },
  {
   "cell_type": "markdown",
   "metadata": {},
   "source": [
    "Now that we have our custom function, let's make a filter for it. "
   ]
  },
  {
   "cell_type": "code",
   "execution_count": 96,
   "metadata": {},
   "outputs": [
    {
     "data": {
      "text/plain": [
       "<function __main__.is_fire_pokemon(pokemon='Charmander')>"
      ]
     },
     "execution_count": 96,
     "metadata": {},
     "output_type": "execute_result"
    }
   ],
   "source": [
    "env.filters['is_fire'] = is_fire_pokemon\n",
    "\n",
    "env.filters['is_fire']"
   ]
  },
  {
   "cell_type": "markdown",
   "metadata": {},
   "source": [
    "**Sidenote of interest:**\n",
    "\n",
    "Notice that we don't write `is_fire_pokemon(pokemon)`, rather we input it **without** the brackets. We do this when we don't want the function to be called at the point it's being written, but rather to serve as a reference to the function object. Take a look at the difference in what's being stored when we set `env.filters['is_fire'] = is_fire_pokemon` versus `is_fire_pokemon(pokemon)`:"
   ]
  },
  {
   "cell_type": "code",
   "execution_count": 108,
   "metadata": {},
   "outputs": [
    {
     "name": "stdout",
     "output_type": "stream",
     "text": [
      "Charmander, Good  \n",
      "\n",
      "<function is_fire_pokemon at 0x114e422f0>\n"
     ]
    }
   ],
   "source": [
    "env.filters['is_fire'] = is_fire_pokemon(pokemon)\n",
    "print(env.filters['is_fire'], ' \\n')\n",
    "\n",
    "\n",
    "env.filters['is_fire'] = is_fire_pokemon\n",
    "print(env.filters['is_fire'])"
   ]
  },
  {
   "cell_type": "markdown",
   "metadata": {},
   "source": [
    "In the first case, what we're storing as the filter is the actual value returned by the function &ndash; essentially, we're calling our function _as_ we store it, and in doing so, saving whatever it returns as the filter, which isn't what we want. We want to set the function itself as a filter, and we do this by *not* using brackets and arguments!"
   ]
  },
  {
   "cell_type": "markdown",
   "metadata": {},
   "source": [
    "### Setting variables "
   ]
  },
  {
   "cell_type": "markdown",
   "metadata": {},
   "source": [
    "Now that we're familiar with the calling of functions in Jinja through filters, we can add another layer: variables!\n",
    "\n",
    "If you've made it this far, I probably don't need to elaborate on the usefulness of local variables, so let's dive right into the code. \n",
    "\n",
    "The instantiation process is quite straightforward: identical to how one assigns variables in regular python, with the one added step of wrapping your variable assignment inside \n",
    "```\n",
    "{% var = goes here %}\n",
    "``` \n"
   ]
  },
  {
   "cell_type": "code",
   "execution_count": 127,
   "metadata": {},
   "outputs": [
    {
     "name": "stdout",
     "output_type": "stream",
     "text": [
      "Overwriting j-templates/fun2.html\n"
     ]
    }
   ],
   "source": [
    "%%writefile j-templates/fun2.html\n",
    "\n",
    "<!DOCTYPE html>\n",
    "<html lang=\"en\">\n",
    "<head>\n",
    "    <title>My pokemon</title>\n",
    "</head>\n",
    "\n",
    " <p>My randomly selected pokémon : \n",
    "        {% set p = my_pokemon|select_random %} \n",
    "        {{ p|is_fire }}\n",
    "    </p>\n",
    "\n",
    "</html>"
   ]
  },
  {
   "cell_type": "markdown",
   "metadata": {},
   "source": [
    "Here I've set `p = my_pokemon|select_random` in order to pass it to my `is_fire_pokemon` function (which is contained in the `is_fire` filter). "
   ]
  },
  {
   "cell_type": "code",
   "execution_count": 129,
   "metadata": {},
   "outputs": [
    {
     "data": {
      "text/html": [
       "\n",
       "<!DOCTYPE html>\n",
       "<html lang=\"en\">\n",
       "<head>\n",
       "    <title>My pokemon</title>\n",
       "</head>\n",
       "\n",
       " <p>My randomly selected pokémon : \n",
       "         \n",
       "        Cubone, Bad: Ground\n",
       "    </p>\n",
       "\n",
       "</html>"
      ],
      "text/plain": [
       "<IPython.core.display.HTML object>"
      ]
     },
     "execution_count": 129,
     "metadata": {},
     "output_type": "execute_result"
    }
   ],
   "source": [
    "template = env.get_template('fun2.html')\n",
    "output = template.render(my_pokemon=pokemon)\n",
    "                                             \n",
    "HTML(output)"
   ]
  },
  {
   "cell_type": "markdown",
   "metadata": {},
   "source": [
    "<img src='https://vignette.wikia.nocookie.net/looneytunes/images/e/e1/All.jpg/revision/latest?cb=20150313020828' style='width:500px;'>"
   ]
  },
  {
   "cell_type": "markdown",
   "metadata": {},
   "source": [
    "Good luck on your Jinja adventures!"
   ]
  }
 ],
 "metadata": {
  "kernelspec": {
   "display_name": "Python 3",
   "language": "python",
   "name": "python3"
  },
  "language_info": {
   "codemirror_mode": {
    "name": "ipython",
    "version": 3
   },
   "file_extension": ".py",
   "mimetype": "text/x-python",
   "name": "python",
   "nbconvert_exporter": "python",
   "pygments_lexer": "ipython3",
   "version": "3.7.3"
  }
 },
 "nbformat": 4,
 "nbformat_minor": 2
}
